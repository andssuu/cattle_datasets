{
  "nbformat": 4,
  "nbformat_minor": 0,
  "metadata": {
    "colab": {
      "name": "dataset_jesus.ipynb",
      "provenance": [],
      "collapsed_sections": [],
      "authorship_tag": "ABX9TyMmQDDW6q9zxCR2SaocMgQn",
      "include_colab_link": true
    },
    "kernelspec": {
      "name": "python3",
      "display_name": "Python 3"
    },
    "language_info": {
      "name": "python"
    }
  },
  "cells": [
    {
      "cell_type": "markdown",
      "metadata": {
        "id": "view-in-github",
        "colab_type": "text"
      },
      "source": [
        "<a href=\"https://colab.research.google.com/github/andssuu/cattle_datasets/blob/main/jesus/dataset_jesus.ipynb\" target=\"_parent\"><img src=\"https://colab.research.google.com/assets/colab-badge.svg\" alt=\"Open In Colab\"/></a>"
      ]
    },
    {
      "cell_type": "code",
      "metadata": {
        "id": "elAYhquCyio2",
        "colab": {
          "base_uri": "https://localhost:8080/"
        },
        "outputId": "5ccf387d-b52e-422b-d3e0-3960e07dea73"
      },
      "source": [
        "!git clone https://github.com/andssuu/cattle_datasets.git"
      ],
      "execution_count": 7,
      "outputs": [
        {
          "output_type": "stream",
          "text": [
            "Cloning into 'cattle_datasets'...\n",
            "fatal: could not read Username for 'https://github.com': No such device or address\n"
          ],
          "name": "stdout"
        }
      ]
    },
    {
      "cell_type": "markdown",
      "metadata": {
        "id": "KPrBuxhXDh1v"
      },
      "source": [
        "## Dados dos experimentos\n",
        "\n",
        "* 2 períodos: primeiro de 25/03/15 a 30/03/15 e de 06/04/15 a 09/04/15\n",
        "* 4 animais (3 distintos)\n",
        "* Foram utilizadas 4 coleiras (A, B, C e D). Entretanto, houve algumas falhas durante o experimento e, no final, ficaram as seguintes bases:\n",
        "  - A2 e A3\n",
        "  - B2 e B3\n",
        "  - C3 e C4\n",
        "  - D1, D2, D3 e D4\n",
        "* Sensores: acelerômetro, giroscópio, magnetômetro e GPS\n",
        "* As coletas eram feitas a cada 1 segundo para todos os sensores\n",
        "* Carregamento offline dos dados por um cartão SD\n",
        "* Classes de comportamentos: pastar, em pé, deitado e andando\n",
        "    * **Pastando/Procurando**: caracterizado pelo animal sobre as quatros patas, com a cabeça baixa procurando ou mastigando o capim. O animal pode ou não estar em movimento, já que ele pode estar se deslocando à procura de capim;\n",
        "    * **Andando**: o animal também está sobre as quatros patas, porém com o pescoço reto (apontando o fucinho para frente) e se deslocando pela área de pasto;\n",
        "    * **Em Pé**: o animal está sobre as quatro patas, com a cabeça erguida e não há deslocamento;\n",
        "    * **Deitado**: o animal está com as patas abaixadas e com a barriga tocando o solo."
      ]
    },
    {
      "cell_type": "markdown",
      "metadata": {
        "id": "5bdPOdTCDmX0"
      },
      "source": [
        "## Base de Dados\n",
        "\n",
        "O arquivo lomba.csv contém todos os dados aglutinados que foram utilizados. A estrutura de cabeçalho é definida da seguinte forma:\n",
        "\n",
        "IdColar | AccX | AccY | AccZ | MagX | MagY | MagZ | GirX | GirY | GirZ | Horario | Data | VelocidadeDeslocamento | Comportamento \n",
        " --- | --- | --- |--- |--- |--- |--- |--- |--- |--- |--- |---|---|---\n",
        "A2 | -11889 | 11184 | -17877 | -1280 | -73 | -309 | -4013 | 1260 | -31 | 131911.203 | 250515 | 000.0 | Comendo/Procurando\n",
        "A2 | -9144 | 8945 | -11799 | -1213 | 707 | -238 | -394 | 2278 | -602 | 131949.203 | 250515 | 000.0 | Comendo/Procurando\n",
        "A2 | 6391 | 9265 | -11767 | 570 | -405 | -1533 | -1072 | -1094 | 1854 | 132148.203 | 250515 | 000.0 | EmPe\n",
        "A2 | -1394 | 10206 | -13229 | 671 | -73 | -1590 | 287 | 2253 | -2760 | 132151.203 | 250515 | 000.0 | Comendo/Procurando\n",
        "...| ... | ... | ... | ... | ... | ... | ... | ... | ... | ... | ... | ... | ... \n",
        "D4 | 2152 | 7619 | -7736 | -1650 | 788 | 43 | -2980 | 3678 | -1357 | 122529.111 | 040715 | 000.0 | Comendo/Procurando\n",
        "\n",
        "\n",
        "No total há 13088 amostras. A tabela a seguir mostra a segmentação das amostras por coleira\n",
        "\n",
        "A2 | A3 | B2 | B3 | C3 | C4 | D1 | D2 | D3 | D4 | Total\n",
        "--- | --- | --- |--- |--- |--- |--- |--- |--- |--- |--- | \n",
        "1112 | 2033 | 1131 | 1735 | 1852 | 406 | 1126 | 1690 | 1598 | 405 | 13088\n"
      ]
    },
    {
      "cell_type": "code",
      "metadata": {
        "id": "WKaexC08DqnA"
      },
      "source": [
        "import math\n",
        "from datetime import datetime\n",
        "\n",
        "import pandas as pd\n",
        "import numpy as np\n",
        "from sklearn.preprocessing import LabelEncoder\n",
        "import matplotlib\n",
        "import matplotlib.pyplot as plt\n",
        "\n",
        "df = pd.read_csv(\"cattle_datasets/jesus/dataset.csv\", float_precision='high')\n",
        "df.head()"
      ],
      "execution_count": null,
      "outputs": []
    }
  ]
}